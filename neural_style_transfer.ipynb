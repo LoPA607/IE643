{
  "nbformat": 4,
  "nbformat_minor": 0,
  "metadata": {
    "colab": {
      "provenance": [],
      "gpuType": "T4",
      "include_colab_link": true
    },
    "kernelspec": {
      "name": "python3",
      "display_name": "Python 3"
    },
    "language_info": {
      "name": "python"
    },
    "accelerator": "GPU"
  },
  "cells": [
    {
      "cell_type": "markdown",
      "metadata": {
        "id": "view-in-github",
        "colab_type": "text"
      },
      "source": [
        "<a href=\"https://colab.research.google.com/github/LoPA607/IE643/blob/main/neural_style_transfer.ipynb\" target=\"_parent\"><img src=\"https://colab.research.google.com/assets/colab-badge.svg\" alt=\"Open In Colab\"/></a>"
      ]
    },
    {
      "cell_type": "code",
      "source": [
        "!pip install torch torchvision pillow tqdm\n"
      ],
      "metadata": {
        "colab": {
          "base_uri": "https://localhost:8080/"
        },
        "id": "JHj1ixZVJLLI",
        "outputId": "a86c9ed9-b1da-4520-beef-f0b3b9c17344"
      },
      "execution_count": null,
      "outputs": [
        {
          "output_type": "stream",
          "name": "stdout",
          "text": [
            "Requirement already satisfied: torch in /usr/local/lib/python3.12/dist-packages (2.8.0+cu126)\n",
            "Requirement already satisfied: torchvision in /usr/local/lib/python3.12/dist-packages (0.23.0+cu126)\n",
            "Requirement already satisfied: pillow in /usr/local/lib/python3.12/dist-packages (11.3.0)\n",
            "Requirement already satisfied: tqdm in /usr/local/lib/python3.12/dist-packages (4.67.1)\n",
            "Requirement already satisfied: filelock in /usr/local/lib/python3.12/dist-packages (from torch) (3.19.1)\n",
            "Requirement already satisfied: typing-extensions>=4.10.0 in /usr/local/lib/python3.12/dist-packages (from torch) (4.15.0)\n",
            "Requirement already satisfied: setuptools in /usr/local/lib/python3.12/dist-packages (from torch) (75.2.0)\n",
            "Requirement already satisfied: sympy>=1.13.3 in /usr/local/lib/python3.12/dist-packages (from torch) (1.13.3)\n",
            "Requirement already satisfied: networkx in /usr/local/lib/python3.12/dist-packages (from torch) (3.5)\n",
            "Requirement already satisfied: jinja2 in /usr/local/lib/python3.12/dist-packages (from torch) (3.1.6)\n",
            "Requirement already satisfied: fsspec in /usr/local/lib/python3.12/dist-packages (from torch) (2025.3.0)\n",
            "Requirement already satisfied: nvidia-cuda-nvrtc-cu12==12.6.77 in /usr/local/lib/python3.12/dist-packages (from torch) (12.6.77)\n",
            "Requirement already satisfied: nvidia-cuda-runtime-cu12==12.6.77 in /usr/local/lib/python3.12/dist-packages (from torch) (12.6.77)\n",
            "Requirement already satisfied: nvidia-cuda-cupti-cu12==12.6.80 in /usr/local/lib/python3.12/dist-packages (from torch) (12.6.80)\n",
            "Requirement already satisfied: nvidia-cudnn-cu12==9.10.2.21 in /usr/local/lib/python3.12/dist-packages (from torch) (9.10.2.21)\n",
            "Requirement already satisfied: nvidia-cublas-cu12==12.6.4.1 in /usr/local/lib/python3.12/dist-packages (from torch) (12.6.4.1)\n",
            "Requirement already satisfied: nvidia-cufft-cu12==11.3.0.4 in /usr/local/lib/python3.12/dist-packages (from torch) (11.3.0.4)\n",
            "Requirement already satisfied: nvidia-curand-cu12==10.3.7.77 in /usr/local/lib/python3.12/dist-packages (from torch) (10.3.7.77)\n",
            "Requirement already satisfied: nvidia-cusolver-cu12==11.7.1.2 in /usr/local/lib/python3.12/dist-packages (from torch) (11.7.1.2)\n",
            "Requirement already satisfied: nvidia-cusparse-cu12==12.5.4.2 in /usr/local/lib/python3.12/dist-packages (from torch) (12.5.4.2)\n",
            "Requirement already satisfied: nvidia-cusparselt-cu12==0.7.1 in /usr/local/lib/python3.12/dist-packages (from torch) (0.7.1)\n",
            "Requirement already satisfied: nvidia-nccl-cu12==2.27.3 in /usr/local/lib/python3.12/dist-packages (from torch) (2.27.3)\n",
            "Requirement already satisfied: nvidia-nvtx-cu12==12.6.77 in /usr/local/lib/python3.12/dist-packages (from torch) (12.6.77)\n",
            "Requirement already satisfied: nvidia-nvjitlink-cu12==12.6.85 in /usr/local/lib/python3.12/dist-packages (from torch) (12.6.85)\n",
            "Requirement already satisfied: nvidia-cufile-cu12==1.11.1.6 in /usr/local/lib/python3.12/dist-packages (from torch) (1.11.1.6)\n",
            "Requirement already satisfied: triton==3.4.0 in /usr/local/lib/python3.12/dist-packages (from torch) (3.4.0)\n",
            "Requirement already satisfied: numpy in /usr/local/lib/python3.12/dist-packages (from torchvision) (2.0.2)\n",
            "Requirement already satisfied: mpmath<1.4,>=1.1.0 in /usr/local/lib/python3.12/dist-packages (from sympy>=1.13.3->torch) (1.3.0)\n",
            "Requirement already satisfied: MarkupSafe>=2.0 in /usr/local/lib/python3.12/dist-packages (from jinja2->torch) (3.0.2)\n"
          ]
        }
      ]
    },
    {
      "cell_type": "code",
      "source": [
        "import torch\n",
        "import torch.nn as nn\n",
        "import torch.optim as optim\n",
        "from torchvision import transforms, models\n",
        "from PIL import Image\n",
        "import copy\n",
        "from tqdm import tqdm\n",
        "\n",
        "device = torch.device(\"cuda\" if torch.cuda.is_available() else \"cpu\")\n",
        "print(\"Using device:\", device)"
      ],
      "metadata": {
        "colab": {
          "base_uri": "https://localhost:8080/"
        },
        "id": "5Br0nq03JOiR",
        "outputId": "68152ea6-5e66-4b98-b655-6db4fa661653"
      },
      "execution_count": null,
      "outputs": [
        {
          "output_type": "stream",
          "name": "stdout",
          "text": [
            "Using device: cuda\n"
          ]
        }
      ]
    },
    {
      "cell_type": "code",
      "source": [
        "def load_image(path, max_size=512, shape=None):\n",
        "    image = Image.open(path).convert('RGB')\n",
        "    size = max(image.size)\n",
        "    if size > max_size:\n",
        "        scale = max_size / size\n",
        "        new_size = (int(image.width * scale), int(image.height * scale))\n",
        "        image = image.resize(new_size, Image.LANCZOS)\n",
        "    if shape is not None:\n",
        "        image = image.resize(shape, Image.LANCZOS)\n",
        "    transform = transforms.ToTensor()\n",
        "    tensor = transform(image).unsqueeze(0).to(device)\n",
        "    return tensor\n",
        "\n",
        "def save_image(tensor, path):\n",
        "    tensor = tensor.clone().detach().cpu().squeeze(0)\n",
        "    tensor = torch.clamp(tensor, 0, 1)\n",
        "    image = transforms.ToPILImage()(tensor)\n",
        "    image.save(path)"
      ],
      "metadata": {
        "id": "WN-gJw_KJRTx"
      },
      "execution_count": null,
      "outputs": []
    },
    {
      "cell_type": "code",
      "source": [
        "cnn_normalization_mean = torch.tensor([0.485, 0.456, 0.406]).to(device)\n",
        "cnn_normalization_std = torch.tensor([0.229, 0.224, 0.225]).to(device)\n",
        "\n",
        "class Normalization(nn.Module):\n",
        "    def __init__(self, mean, std):\n",
        "        super().__init__()\n",
        "        self.mean = mean.reshape(-1,1,1)\n",
        "        self.std = std.reshape(-1,1,1)\n",
        "    def forward(self, img):\n",
        "        return (img - self.mean) / self.std\n",
        "\n",
        "def gram_matrix(tensor):\n",
        "    b, c, h, w = tensor.size()\n",
        "    features = tensor.view(b * c, h * w)\n",
        "    G = torch.mm(features, features.t())\n",
        "    return G.div(b * c * h * w)\n",
        "\n",
        "class ContentLoss(nn.Module):\n",
        "    def __init__(self, target):\n",
        "        super().__init__()\n",
        "        self.target = target.detach()\n",
        "        self.loss = 0\n",
        "    def forward(self, input):\n",
        "        self.loss = nn.functional.mse_loss(input, self.target)\n",
        "        return input\n",
        "\n",
        "class StyleLoss(nn.Module):\n",
        "    def __init__(self, target_feature):\n",
        "        super().__init__()\n",
        "        self.target = gram_matrix(target_feature).detach()\n",
        "        self.loss = 0\n",
        "    def forward(self, input):\n",
        "        G = gram_matrix(input)\n",
        "        self.loss = nn.functional.mse_loss(G, self.target)\n",
        "        return input"
      ],
      "metadata": {
        "id": "WH1S9tHiJZHH"
      },
      "execution_count": null,
      "outputs": []
    },
    {
      "cell_type": "code",
      "source": [
        "def get_style_model_and_losses(cnn, norm_mean, norm_std, style_img, content_img,\n",
        "                               content_layers=['conv_4'],\n",
        "                               style_layers=['conv_1','conv_2','conv_3','conv_4','conv_5']):\n",
        "    cnn = copy.deepcopy(cnn)\n",
        "    normalization = Normalization(norm_mean, norm_std).to(device)\n",
        "    model = nn.Sequential(normalization)\n",
        "\n",
        "    content_losses = []\n",
        "    style_losses = []\n",
        "\n",
        "    i = 0\n",
        "    for layer in cnn.children():\n",
        "        if isinstance(layer, nn.Conv2d):\n",
        "            i += 1\n",
        "            name = f'conv_{i}'\n",
        "        elif isinstance(layer, nn.ReLU):\n",
        "            name = f'relu_{i}'\n",
        "            layer = nn.ReLU(inplace=False)\n",
        "        elif isinstance(layer, nn.MaxPool2d):\n",
        "            name = f'pool_{i}'\n",
        "        else:\n",
        "            name = f'layer_{i}'\n",
        "\n",
        "        model.add_module(name, layer)\n",
        "\n",
        "        if name in content_layers:\n",
        "            target = model(content_img).detach()\n",
        "            print(f\"Content layer {name} output shape: {target.shape}\")\n",
        "            content_loss = ContentLoss(target)\n",
        "            model.add_module(\"content_loss_\" + str(i), content_loss)\n",
        "            content_losses.append(content_loss)\n",
        "\n",
        "        if name in style_layers:\n",
        "            target_feature = model(style_img).detach()\n",
        "            print(f\"Style layer {name} output shape: {target_feature.shape}\")\n",
        "            style_loss = StyleLoss(target_feature)\n",
        "            model.add_module(\"style_loss_\" + str(i), style_loss)\n",
        "            style_losses.append(style_loss)\n",
        "\n",
        "    # trim off unused layers\n",
        "    for j in range(len(model) - 1, -1, -1):\n",
        "        if isinstance(model[j], ContentLoss) or isinstance(model[j], StyleLoss):\n",
        "            break\n",
        "    model = model[:(j+1)]\n",
        "\n",
        "    return model, style_losses, content_losses"
      ],
      "metadata": {
        "id": "7Y2c0X9HJcQq"
      },
      "execution_count": null,
      "outputs": []
    },
    {
      "cell_type": "code",
      "source": [
        "def run_style_transfer(cnn, norm_mean, norm_std,\n",
        "                       content_img, style_img, input_img,\n",
        "                       num_steps=300, style_weight=1e6, content_weight=1):\n",
        "    print(\"Building model...\")\n",
        "    model, style_losses, content_losses = get_style_model_and_losses(\n",
        "        cnn, norm_mean, norm_std, style_img, content_img)\n",
        "\n",
        "    optimizer = optim.LBFGS([input_img.requires_grad_()])\n",
        "\n",
        "    print(\"Optimizing...\")\n",
        "    run = [0]\n",
        "    pbar = tqdm(total=num_steps)\n",
        "    while run[0] <= num_steps:\n",
        "        def closure():\n",
        "            input_img.data.clamp_(0, 1)\n",
        "            optimizer.zero_grad()\n",
        "            model(input_img)\n",
        "            style_score = sum(sl.loss for sl in style_losses)\n",
        "            content_score = sum(cl.loss for cl in content_losses)\n",
        "            loss = style_weight * style_score + content_weight * content_score\n",
        "            loss.backward()\n",
        "            run[0] += 1\n",
        "            pbar.update(1)\n",
        "            return loss\n",
        "        optimizer.step(closure)\n",
        "        if run[0] > num_steps:\n",
        "            break\n",
        "    pbar.close()\n",
        "    input_img.data.clamp_(0, 1)\n",
        "    return input_img"
      ],
      "metadata": {
        "id": "swPmHGwlJlL-"
      },
      "execution_count": null,
      "outputs": []
    },
    {
      "cell_type": "code",
      "source": [
        "content_path = \"/content/hoovertowernight.jpg\"\n",
        "style_path = \"/content/starrynight.jpg\"\n",
        "\n",
        "content_img = load_image(content_path, shape=[512, 512])\n",
        "style_img = load_image(style_path, shape=[512, 512])\n",
        "\n",
        "input_img = content_img.clone()\n",
        "\n",
        "cnn = models.vgg19(pretrained=True).features.to(device).eval()\n",
        "\n",
        "output = run_style_transfer(cnn, cnn_normalization_mean, cnn_normalization_std,\n",
        "                            content_img, style_img, input_img,\n",
        "                            num_steps=300)\n",
        "\n",
        "save_image(output, \"/content/starrynight.jpg\")\n",
        "print(\"Done! Saved as stylized3.jpg\")"
      ],
      "metadata": {
        "colab": {
          "base_uri": "https://localhost:8080/"
        },
        "id": "oBjFYG0UJoKZ",
        "outputId": "95c4e35e-3091-492b-be00-db7e59779fea"
      },
      "execution_count": null,
      "outputs": [
        {
          "output_type": "stream",
          "name": "stdout",
          "text": [
            "Building model...\n",
            "Style layer conv_1 output shape: torch.Size([1, 64, 512, 512])\n",
            "Style layer conv_2 output shape: torch.Size([1, 64, 512, 512])\n",
            "Style layer conv_3 output shape: torch.Size([1, 128, 256, 256])\n",
            "Content layer conv_4 output shape: torch.Size([1, 128, 256, 256])\n",
            "Style layer conv_4 output shape: torch.Size([1, 128, 256, 256])\n",
            "Style layer conv_5 output shape: torch.Size([1, 256, 128, 128])\n",
            "Optimizing...\n"
          ]
        },
        {
          "output_type": "stream",
          "name": "stderr",
          "text": [
            "320it [00:22, 13.97it/s]"
          ]
        },
        {
          "output_type": "stream",
          "name": "stdout",
          "text": [
            "Done! Saved as stylized3.jpg\n"
          ]
        },
        {
          "output_type": "stream",
          "name": "stderr",
          "text": [
            "\n"
          ]
        }
      ]
    }
  ]
}